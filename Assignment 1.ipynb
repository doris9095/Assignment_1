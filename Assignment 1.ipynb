{
 "cells": [
  {
   "cell_type": "code",
   "execution_count": 109,
   "id": "d1571ecd",
   "metadata": {
    "scrolled": true
   },
   "outputs": [
    {
     "name": "stdout",
     "output_type": "stream",
     "text": [
      "Enter Week1's COMM5946 learning time:4\n",
      "Enter Week1's COMM5961 learning time:11\n",
      "Enter Week1's COMM5942 learning time:5\n",
      "Enter Week1's COMM5950 learning time:4\n",
      "Enter Week1's average learning time:6.0\n",
      "[{'Weeks': 'Week1', 'COMM5946': '4', 'COMM5961': '11', 'COMM5942': '5', 'COMM5950': '4', 'Average_time': '6.0'}]\n",
      "Enter Week2's COMM5946 learning time:5\n",
      "Enter Week2's COMM5961 learning time:9\n",
      "Enter Week2's COMM5942 learning time:6\n",
      "Enter Week2's COMM5950 learning time:4\n",
      "Enter Week2's average learning time:6.25\n",
      "[{'Weeks': 'Week1', 'COMM5946': '4', 'COMM5961': '11', 'COMM5942': '5', 'COMM5950': '4', 'Average_time': '6.0'}, {'Weeks': 'Week2', 'COMM5946': '5', 'COMM5961': '9', 'COMM5942': '6', 'COMM5950': '4', 'Average_time': '6.25'}]\n",
      "Enter Week3's COMM5946 learning time:5\n",
      "Enter Week3's COMM5961 learning time:9\n",
      "Enter Week3's COMM5942 learning time:6\n",
      "Enter Week3's COMM5950 learning time:5\n",
      "Enter Week3's average learning time:6.25\n",
      "[{'Weeks': 'Week1', 'COMM5946': '4', 'COMM5961': '11', 'COMM5942': '5', 'COMM5950': '4', 'Average_time': '6.0'}, {'Weeks': 'Week2', 'COMM5946': '5', 'COMM5961': '9', 'COMM5942': '6', 'COMM5950': '4', 'Average_time': '6.25'}, {'Weeks': 'Week3', 'COMM5946': '5', 'COMM5961': '9', 'COMM5942': '6', 'COMM5950': '5', 'Average_time': '6.25'}]\n",
      "Enter Week4's COMM5946 learning time:6\n",
      "Enter Week4's COMM5961 learning time:12\n",
      "Enter Week4's COMM5942 learning time:7\n",
      "Enter Week4's COMM5950 learning time:4\n",
      "Enter Week4's average learning time:7.25\n",
      "[{'Weeks': 'Week1', 'COMM5946': '4', 'COMM5961': '11', 'COMM5942': '5', 'COMM5950': '4', 'Average_time': '6.0'}, {'Weeks': 'Week2', 'COMM5946': '5', 'COMM5961': '9', 'COMM5942': '6', 'COMM5950': '4', 'Average_time': '6.25'}, {'Weeks': 'Week3', 'COMM5946': '5', 'COMM5961': '9', 'COMM5942': '6', 'COMM5950': '5', 'Average_time': '6.25'}, {'Weeks': 'Week4', 'COMM5946': '6', 'COMM5961': '12', 'COMM5942': '7', 'COMM5950': '4', 'Average_time': '7.25'}]\n"
     ]
    },
    {
     "data": {
      "text/html": [
       "<div>\n",
       "<style scoped>\n",
       "    .dataframe tbody tr th:only-of-type {\n",
       "        vertical-align: middle;\n",
       "    }\n",
       "\n",
       "    .dataframe tbody tr th {\n",
       "        vertical-align: top;\n",
       "    }\n",
       "\n",
       "    .dataframe thead th {\n",
       "        text-align: right;\n",
       "    }\n",
       "</style>\n",
       "<table border=\"1\" class=\"dataframe\">\n",
       "  <thead>\n",
       "    <tr style=\"text-align: right;\">\n",
       "      <th></th>\n",
       "      <th>Weeks</th>\n",
       "      <th>COMM5946</th>\n",
       "      <th>COMM5961</th>\n",
       "      <th>COMM5942</th>\n",
       "      <th>COMM5950</th>\n",
       "      <th>Average_time</th>\n",
       "    </tr>\n",
       "  </thead>\n",
       "  <tbody>\n",
       "    <tr>\n",
       "      <th>0</th>\n",
       "      <td>Week1</td>\n",
       "      <td>4</td>\n",
       "      <td>11</td>\n",
       "      <td>5</td>\n",
       "      <td>4</td>\n",
       "      <td>6.0</td>\n",
       "    </tr>\n",
       "    <tr>\n",
       "      <th>1</th>\n",
       "      <td>Week2</td>\n",
       "      <td>5</td>\n",
       "      <td>9</td>\n",
       "      <td>6</td>\n",
       "      <td>4</td>\n",
       "      <td>6.25</td>\n",
       "    </tr>\n",
       "    <tr>\n",
       "      <th>2</th>\n",
       "      <td>Week3</td>\n",
       "      <td>5</td>\n",
       "      <td>9</td>\n",
       "      <td>6</td>\n",
       "      <td>5</td>\n",
       "      <td>6.25</td>\n",
       "    </tr>\n",
       "    <tr>\n",
       "      <th>3</th>\n",
       "      <td>Week4</td>\n",
       "      <td>6</td>\n",
       "      <td>12</td>\n",
       "      <td>7</td>\n",
       "      <td>4</td>\n",
       "      <td>7.25</td>\n",
       "    </tr>\n",
       "  </tbody>\n",
       "</table>\n",
       "</div>"
      ],
      "text/plain": [
       "   Weeks COMM5946 COMM5961 COMM5942 COMM5950 Average_time\n",
       "0  Week1        4       11        5        4          6.0\n",
       "1  Week2        5        9        6        4         6.25\n",
       "2  Week3        5        9        6        5         6.25\n",
       "3  Week4        6       12        7        4         7.25"
      ]
     },
     "execution_count": 109,
     "metadata": {},
     "output_type": "execute_result"
    }
   ],
   "source": [
    "import pandas as pd\n",
    "learning_progress =[]\n",
    "toptal_weeks = 0\n",
    "Weeks = ['Week1','Week2','Week3','Week4']\n",
    "\n",
    "for i in Weeks:\n",
    "    Week1 = input(\"Enter \" + i +\"'s COMM5946 learning time:\")\n",
    "    Week2 = input(\"Enter \" + i +\"'s COMM5961 learning time:\")\n",
    "    Week3 = input(\"Enter \" + i +\"'s COMM5942 learning time:\")\n",
    "    Week4 = input(\"Enter \" + i +\"'s COMM5950 learning time:\")\n",
    "    Avg_time = input(\"Enter \" + i +\"'s average learning time:\")\n",
    "    \n",
    "    \n",
    "    learning_progress.append({'Weeks':i,\n",
    "                              'COMM5946':Week1,\n",
    "                              'COMM5961':Week2,\n",
    "                              'COMM5942':Week3,\n",
    "                              'COMM5950':Week4,\n",
    "                              'Average_time':Avg_time\n",
    "                             })\n",
    "    print(learning_progress)\n",
    "df = pd.DataFrame(learning_progress)\n",
    "df.to_csv('learning_progress_of_September.csv', mode = 'w', index=False)\n",
    "df"
   ]
  },
  {
   "cell_type": "code",
   "execution_count": 114,
   "id": "05e4c251",
   "metadata": {
    "scrolled": true
   },
   "outputs": [
    {
     "name": "stdout",
     "output_type": "stream",
     "text": [
      "Learning Progress of September: \n",
      " [['Week1', 4, 11, 5, 4, 6.0], ['Week2', 5, 9, 6, 4, 6.25], ['Week3', 5, 9, 6, 5, 6.25], ['Week4', 6, 12, 7, 4, 7.25]]\n",
      "COMM5946: [4, 5, 5, 6] \n",
      "\n",
      "COMM5961: [11, 9, 9, 12] \n",
      "\n",
      "COMM5942: [5, 6, 6, 7] \n",
      "\n",
      "COMM5950: [4, 4, 5, 4] \n",
      "\n",
      "Average Time: [6.0, 6.25, 6.25, 7.25] \n",
      "\n"
     ]
    },
    {
     "data": {
      "image/png": "[encoded data removed]",
      "text/plain": [
       "<Figure size 432x288 with 1 Axes>"
      ]
     },
     "metadata": {
      "needs_background": "light"
     },
     "output_type": "display_data"
    }
   ],
   "source": [
    "import pandas as pd\n",
    "from matplotlib import pyplot as plt\n",
    "df = pd.read_csv('learning_progress_of_September.csv')\n",
    "df\n",
    "learning_progress_of_September = df.values.tolist()\n",
    "print(\"Learning Progress of September:\", \"\\n\", learning_progress_of_September)\n",
    "\n",
    "Weeks = []\n",
    "COMM5946 = []\n",
    "COMM5961 = []\n",
    "COMM5942 = []\n",
    "COMM5950 = []\n",
    "Average_time = []\n",
    "\n",
    "for i in learning_progress_of_September:\n",
    "    Weeks.append(i[0])\n",
    "    COMM5946.append(i[1])\n",
    "    COMM5961.append(i[2])\n",
    "    COMM5942.append(i[3])\n",
    "    COMM5950.append(i[4])\n",
    "    Average_time.append(i[5])\n",
    "print(\"COMM5946:\", COMM5946,\"\\n\")\n",
    "print(\"COMM5961:\", COMM5961,\"\\n\")\n",
    "print(\"COMM5942:\", COMM5942,\"\\n\")\n",
    "print(\"COMM5950:\", COMM5950,\"\\n\")\n",
    "print(\"Average Time:\", Average_time,\"\\n\")\n",
    "\n",
    "plt.plot(Weeks,COMM5946, color='purple')\n",
    "plt.plot(Weeks,COMM5961, color='black')\n",
    "plt.plot(Weeks,COMM5942, color='blue')\n",
    "plt.plot(Weeks,COMM5950, color='pink')\n",
    "plt.plot(Weeks,Average_time, color='red', marker='s')\n",
    "\n",
    "plt.legend(['COMM5946','COMM5961','COMM5942','COMM5950','Average Time'])\n",
    "plt.xlabel('Weeks of September')\n",
    "plt.ylabel('Hours')\n",
    "plt.title('Learning Progress of September')\n",
    "plt.show()"
   ]
  },
  {
   "cell_type": "code",
   "execution_count": null,
   "id": "b688f39d",
   "metadata": {},
   "outputs": [],
   "source": []
  }
 ],
 "metadata": {
  "kernelspec": {
   "display_name": "Python 3",
   "language": "python",
   "name": "python3"
  },
  "language_info": {
   "codemirror_mode": {
    "name": "ipython",
    "version": 3
   },
   "file_extension": ".py",
   "mimetype": "text/x-python",
   "name": "python",
   "nbconvert_exporter": "python",
   "pygments_lexer": "ipython3",
   "version": "3.8.8"
  }
 },
 "nbformat": 4,
 "nbformat_minor": 5
}
